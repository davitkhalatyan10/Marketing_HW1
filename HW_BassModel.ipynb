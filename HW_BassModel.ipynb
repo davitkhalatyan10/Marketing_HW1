{
 "cells": [
  {
   "cell_type": "code",
   "execution_count": 10,
   "id": "ce486c89",
   "metadata": {},
   "outputs": [
    {
     "name": "stdout",
     "output_type": "stream",
     "text": [
      "Estimated p: 0.1923109215180542\n",
      "Estimated q: 0.6591704907886814\n",
      "Estimated m: 39190.04415562517\n"
     ]
    }
   ],
   "source": [
    "import numpy as np\n",
    "from scipy.optimize import curve_fit\n",
    "\n",
    "years = np.array([2021, 2022, 2023, 2024, 2025, 2026, 2027, 2028, 2029, 2030])\n",
    "market_sizes = np.array([6865.68, 9392.25, 12825.12, 17397.27, 23347.14, 30888.27, 40170.19, 51216.99, 63867.59, 77726.85])\n",
    "\n",
    "def bass_model(t, p, q, m):\n",
    "    return (p + q) * m - (q/m) * (p + q) * np.exp(-(p + q) * (t - 2020))\n",
    "\n",
    "# Fit the model\n",
    "params, covariance = curve_fit(bass_model, years, market_sizes, p0=(0.001, 0.1, 10000), method='lm')\n",
    "\n",
    "estimated_p, estimated_q, estimated_m = params\n",
    "\n",
    "print(\"Estimated p:\", estimated_p)\n",
    "print(\"Estimated q:\", estimated_q)\n",
    "print(\"Estimated m:\", estimated_m)\n"
   ]
  },
  {
   "cell_type": "code",
   "execution_count": null,
   "id": "e9db3ae3",
   "metadata": {},
   "outputs": [],
   "source": []
  }
 ],
 "metadata": {
  "kernelspec": {
   "display_name": "Python 3 (ipykernel)",
   "language": "python",
   "name": "python3"
  },
  "language_info": {
   "codemirror_mode": {
    "name": "ipython",
    "version": 3
   },
   "file_extension": ".py",
   "mimetype": "text/x-python",
   "name": "python",
   "nbconvert_exporter": "python",
   "pygments_lexer": "ipython3",
   "version": "3.11.4"
  }
 },
 "nbformat": 4,
 "nbformat_minor": 5
}
